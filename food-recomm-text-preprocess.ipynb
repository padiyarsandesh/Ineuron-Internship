{
 "cells": [
  {
   "cell_type": "markdown",
   "metadata": {},
   "source": [
    "# Data Preprocessing "
   ]
  },
  {
   "cell_type": "code",
   "execution_count": 1,
   "metadata": {},
   "outputs": [],
   "source": [
    "#Author: Sandesh Padiyar\n",
    "#importing required modules\n",
    "import pandas as pd\n",
    "import re\n",
    "import string\n",
    "from nltk.corpus import stopwords\n",
    "from nltk.stem import PorterStemmer\n",
    "from nltk.stem.wordnet import WordNetLemmatizer\n",
    "import numpy as np\n",
    "import spacy"
   ]
  },
  {
   "cell_type": "code",
   "execution_count": 2,
   "metadata": {},
   "outputs": [],
   "source": [
    "chunk=pd.read_csv('food_recommendation.csv',chunksize=1000)"
   ]
  },
  {
   "cell_type": "code",
   "execution_count": 3,
   "metadata": {},
   "outputs": [],
   "source": [
    "df=pd.concat(chunk)"
   ]
  },
  {
   "cell_type": "code",
   "execution_count": 4,
   "metadata": {},
   "outputs": [
    {
     "data": {
      "text/html": [
       "<div>\n",
       "<style scoped>\n",
       "    .dataframe tbody tr th:only-of-type {\n",
       "        vertical-align: middle;\n",
       "    }\n",
       "\n",
       "    .dataframe tbody tr th {\n",
       "        vertical-align: top;\n",
       "    }\n",
       "\n",
       "    .dataframe thead th {\n",
       "        text-align: right;\n",
       "    }\n",
       "</style>\n",
       "<table border=\"1\" class=\"dataframe\">\n",
       "  <thead>\n",
       "    <tr style=\"text-align: right;\">\n",
       "      <th></th>\n",
       "      <th>ingredients</th>\n",
       "      <th>url</th>\n",
       "      <th>partition</th>\n",
       "      <th>title</th>\n",
       "      <th>id</th>\n",
       "      <th>instructions</th>\n",
       "      <th>type</th>\n",
       "    </tr>\n",
       "  </thead>\n",
       "  <tbody>\n",
       "    <tr>\n",
       "      <th>0</th>\n",
       "      <td>5 cups water 4 cups frozen hash brown potatoes...</td>\n",
       "      <td>http://www.epicurious.com/recipes/food/views/m...</td>\n",
       "      <td>train</td>\n",
       "      <td>mashed potato bake</td>\n",
       "      <td>165413dfa5</td>\n",
       "      <td>preheat the oven to 350 degrees. bring the wat...</td>\n",
       "      <td>0</td>\n",
       "    </tr>\n",
       "    <tr>\n",
       "      <th>1</th>\n",
       "      <td>2 whole sheets of lavash bread 1 teaspoon grou...</td>\n",
       "      <td>http://tastykitchen.com/recipes/appetizers-and...</td>\n",
       "      <td>train</td>\n",
       "      <td>cinnamon and sugar lavash chips</td>\n",
       "      <td>1654357cd3</td>\n",
       "      <td>preheat oven to 350 degrees f. line a baking s...</td>\n",
       "      <td>0</td>\n",
       "    </tr>\n",
       "    <tr>\n",
       "      <th>2</th>\n",
       "      <td>1 c. sugar 1/2 c. butter 1/2 c. white corn syr...</td>\n",
       "      <td>http://cookeatshare.com/recipes/almond-toffee-...</td>\n",
       "      <td>train</td>\n",
       "      <td>almond toffee popcorn recipe</td>\n",
       "      <td>165438a19c</td>\n",
       "      <td>in heavy saucepan, combine sugar, butter, corn...</td>\n",
       "      <td>0</td>\n",
       "    </tr>\n",
       "    <tr>\n",
       "      <th>3</th>\n",
       "      <td>2 tablespoons ground paprika 1 tablespoon grou...</td>\n",
       "      <td>http://allrecipes.com/recipe/blackened-salmon-...</td>\n",
       "      <td>val</td>\n",
       "      <td>blackened salmon fillets</td>\n",
       "      <td>1654587b71</td>\n",
       "      <td>in a small bowl, mix paprika, cayenne pepper, ...</td>\n",
       "      <td>1</td>\n",
       "    </tr>\n",
       "    <tr>\n",
       "      <th>4</th>\n",
       "      <td>2 lb ground turkey 1 quart speghetti sauce 1 b...</td>\n",
       "      <td>https://cookpad.com/us/recipes/349446-baked-ziti</td>\n",
       "      <td>train</td>\n",
       "      <td>baked ziti</td>\n",
       "      <td>16545e6d7e</td>\n",
       "      <td>make your pasta and sauce like you normally wo...</td>\n",
       "      <td>1</td>\n",
       "    </tr>\n",
       "  </tbody>\n",
       "</table>\n",
       "</div>"
      ],
      "text/plain": [
       "                                         ingredients  \\\n",
       "0  5 cups water 4 cups frozen hash brown potatoes...   \n",
       "1  2 whole sheets of lavash bread 1 teaspoon grou...   \n",
       "2  1 c. sugar 1/2 c. butter 1/2 c. white corn syr...   \n",
       "3  2 tablespoons ground paprika 1 tablespoon grou...   \n",
       "4  2 lb ground turkey 1 quart speghetti sauce 1 b...   \n",
       "\n",
       "                                                 url partition  \\\n",
       "0  http://www.epicurious.com/recipes/food/views/m...     train   \n",
       "1  http://tastykitchen.com/recipes/appetizers-and...     train   \n",
       "2  http://cookeatshare.com/recipes/almond-toffee-...     train   \n",
       "3  http://allrecipes.com/recipe/blackened-salmon-...       val   \n",
       "4   https://cookpad.com/us/recipes/349446-baked-ziti     train   \n",
       "\n",
       "                             title          id  \\\n",
       "0               mashed potato bake  165413dfa5   \n",
       "1  cinnamon and sugar lavash chips  1654357cd3   \n",
       "2     almond toffee popcorn recipe  165438a19c   \n",
       "3         blackened salmon fillets  1654587b71   \n",
       "4                       baked ziti  16545e6d7e   \n",
       "\n",
       "                                        instructions  type  \n",
       "0  preheat the oven to 350 degrees. bring the wat...     0  \n",
       "1  preheat oven to 350 degrees f. line a baking s...     0  \n",
       "2  in heavy saucepan, combine sugar, butter, corn...     0  \n",
       "3  in a small bowl, mix paprika, cayenne pepper, ...     1  \n",
       "4  make your pasta and sauce like you normally wo...     1  "
      ]
     },
     "execution_count": 4,
     "metadata": {},
     "output_type": "execute_result"
    }
   ],
   "source": [
    "df.head()"
   ]
  },
  {
   "cell_type": "code",
   "execution_count": 5,
   "metadata": {},
   "outputs": [
    {
     "name": "stdout",
     "output_type": "stream",
     "text": [
      "494         blueberry crisp\n",
      "540              baked ziti\n",
      "987        hot buttered rum\n",
      "1040            tomato soup\n",
      "1986    asparagus casserole\n",
      "               ...         \n",
      "9829       creamy fruit dip\n",
      "9880         raspberry bars\n",
      "9891       watermelon salsa\n",
      "9960    italian pasta salad\n",
      "9963      hot artichoke dip\n",
      "Name: title, Length: 139, dtype: object\n"
     ]
    },
    {
     "data": {
      "text/html": [
       "<div>\n",
       "<style scoped>\n",
       "    .dataframe tbody tr th:only-of-type {\n",
       "        vertical-align: middle;\n",
       "    }\n",
       "\n",
       "    .dataframe tbody tr th {\n",
       "        vertical-align: top;\n",
       "    }\n",
       "\n",
       "    .dataframe thead th {\n",
       "        text-align: right;\n",
       "    }\n",
       "</style>\n",
       "<table border=\"1\" class=\"dataframe\">\n",
       "  <thead>\n",
       "    <tr style=\"text-align: right;\">\n",
       "      <th></th>\n",
       "      <th>ingredients</th>\n",
       "      <th>url</th>\n",
       "      <th>partition</th>\n",
       "      <th>title</th>\n",
       "      <th>id</th>\n",
       "      <th>instructions</th>\n",
       "      <th>type</th>\n",
       "    </tr>\n",
       "  </thead>\n",
       "  <tbody>\n",
       "    <tr>\n",
       "      <th>79</th>\n",
       "      <td>2 sticks margarine 2 cups all-purpose flour 1 ...</td>\n",
       "      <td>http://www.foodgeeks.com/recipes/16110</td>\n",
       "      <td>train</td>\n",
       "      <td>blueberry crisp</td>\n",
       "      <td>16591c7b5c</td>\n",
       "      <td>melt butter and mix with flour and pecans. pac...</td>\n",
       "      <td>0</td>\n",
       "    </tr>\n",
       "    <tr>\n",
       "      <th>494</th>\n",
       "      <td>12 cup sugar 13 cup flour 1 teaspoon cinnamon ...</td>\n",
       "      <td>http://www.food.com/recipe/blueberry-crisp-83767</td>\n",
       "      <td>train</td>\n",
       "      <td>blueberry crisp</td>\n",
       "      <td>167228d018</td>\n",
       "      <td>in a small bowl, combine sugar, flour, cinnamo...</td>\n",
       "      <td>0</td>\n",
       "    </tr>\n",
       "  </tbody>\n",
       "</table>\n",
       "</div>"
      ],
      "text/plain": [
       "                                           ingredients  \\\n",
       "79   2 sticks margarine 2 cups all-purpose flour 1 ...   \n",
       "494  12 cup sugar 13 cup flour 1 teaspoon cinnamon ...   \n",
       "\n",
       "                                                  url partition  \\\n",
       "79             http://www.foodgeeks.com/recipes/16110     train   \n",
       "494  http://www.food.com/recipe/blueberry-crisp-83767     train   \n",
       "\n",
       "               title          id  \\\n",
       "79   blueberry crisp  16591c7b5c   \n",
       "494  blueberry crisp  167228d018   \n",
       "\n",
       "                                          instructions  type  \n",
       "79   melt butter and mix with flour and pecans. pac...     0  \n",
       "494  in a small bowl, combine sugar, flour, cinnamo...     0  "
      ]
     },
     "execution_count": 5,
     "metadata": {},
     "output_type": "execute_result"
    }
   ],
   "source": [
    "#Finding same name dishes (Note: the ingrediants are different , therefore same dishes with different style of preparation)\n",
    "dish_dup=df[df.duplicated(subset='title')]\n",
    "print(dish_dup.title)\n",
    "df[df.title=='blueberry crisp']"
   ]
  },
  {
   "cell_type": "markdown",
   "metadata": {},
   "source": [
    "<strong>Observation: </strong>Finding dishes with same name (Note: the ingrediants are different , therefore same dishes with different style of preparation)"
   ]
  },
  {
   "cell_type": "code",
   "execution_count": 6,
   "metadata": {},
   "outputs": [
    {
     "data": {
      "text/plain": [
       "0"
      ]
     },
     "execution_count": 6,
     "metadata": {},
     "output_type": "execute_result"
    }
   ],
   "source": [
    "sum(df.id.duplicated())"
   ]
  },
  {
   "cell_type": "code",
   "execution_count": 7,
   "metadata": {},
   "outputs": [
    {
     "data": {
      "text/html": [
       "<div>\n",
       "<style scoped>\n",
       "    .dataframe tbody tr th:only-of-type {\n",
       "        vertical-align: middle;\n",
       "    }\n",
       "\n",
       "    .dataframe tbody tr th {\n",
       "        vertical-align: top;\n",
       "    }\n",
       "\n",
       "    .dataframe thead th {\n",
       "        text-align: right;\n",
       "    }\n",
       "</style>\n",
       "<table border=\"1\" class=\"dataframe\">\n",
       "  <thead>\n",
       "    <tr style=\"text-align: right;\">\n",
       "      <th></th>\n",
       "      <th>ingredients</th>\n",
       "      <th>partition</th>\n",
       "      <th>title</th>\n",
       "      <th>id</th>\n",
       "      <th>instructions</th>\n",
       "    </tr>\n",
       "  </thead>\n",
       "  <tbody>\n",
       "    <tr>\n",
       "      <th>0</th>\n",
       "      <td>5 cups water 4 cups frozen hash brown potatoes...</td>\n",
       "      <td>train</td>\n",
       "      <td>mashed potato bake</td>\n",
       "      <td>165413dfa5</td>\n",
       "      <td>preheat the oven to 350 degrees. bring the wat...</td>\n",
       "    </tr>\n",
       "    <tr>\n",
       "      <th>1</th>\n",
       "      <td>2 whole sheets of lavash bread 1 teaspoon grou...</td>\n",
       "      <td>train</td>\n",
       "      <td>cinnamon and sugar lavash chips</td>\n",
       "      <td>1654357cd3</td>\n",
       "      <td>preheat oven to 350 degrees f. line a baking s...</td>\n",
       "    </tr>\n",
       "    <tr>\n",
       "      <th>2</th>\n",
       "      <td>1 c. sugar 1/2 c. butter 1/2 c. white corn syr...</td>\n",
       "      <td>train</td>\n",
       "      <td>almond toffee popcorn recipe</td>\n",
       "      <td>165438a19c</td>\n",
       "      <td>in heavy saucepan, combine sugar, butter, corn...</td>\n",
       "    </tr>\n",
       "    <tr>\n",
       "      <th>3</th>\n",
       "      <td>2 tablespoons ground paprika 1 tablespoon grou...</td>\n",
       "      <td>val</td>\n",
       "      <td>blackened salmon fillets</td>\n",
       "      <td>1654587b71</td>\n",
       "      <td>in a small bowl, mix paprika, cayenne pepper, ...</td>\n",
       "    </tr>\n",
       "    <tr>\n",
       "      <th>4</th>\n",
       "      <td>2 lb ground turkey 1 quart speghetti sauce 1 b...</td>\n",
       "      <td>train</td>\n",
       "      <td>baked ziti</td>\n",
       "      <td>16545e6d7e</td>\n",
       "      <td>make your pasta and sauce like you normally wo...</td>\n",
       "    </tr>\n",
       "  </tbody>\n",
       "</table>\n",
       "</div>"
      ],
      "text/plain": [
       "                                         ingredients partition  \\\n",
       "0  5 cups water 4 cups frozen hash brown potatoes...     train   \n",
       "1  2 whole sheets of lavash bread 1 teaspoon grou...     train   \n",
       "2  1 c. sugar 1/2 c. butter 1/2 c. white corn syr...     train   \n",
       "3  2 tablespoons ground paprika 1 tablespoon grou...       val   \n",
       "4  2 lb ground turkey 1 quart speghetti sauce 1 b...     train   \n",
       "\n",
       "                             title          id  \\\n",
       "0               mashed potato bake  165413dfa5   \n",
       "1  cinnamon and sugar lavash chips  1654357cd3   \n",
       "2     almond toffee popcorn recipe  165438a19c   \n",
       "3         blackened salmon fillets  1654587b71   \n",
       "4                       baked ziti  16545e6d7e   \n",
       "\n",
       "                                        instructions  \n",
       "0  preheat the oven to 350 degrees. bring the wat...  \n",
       "1  preheat oven to 350 degrees f. line a baking s...  \n",
       "2  in heavy saucepan, combine sugar, butter, corn...  \n",
       "3  in a small bowl, mix paprika, cayenne pepper, ...  \n",
       "4  make your pasta and sauce like you normally wo...  "
      ]
     },
     "execution_count": 7,
     "metadata": {},
     "output_type": "execute_result"
    }
   ],
   "source": [
    "#dropping url as it does not provide any useful information (type column will be modified later)\n",
    "new_df=df.drop(['url','type'],axis=1)\n",
    "new_df.head()"
   ]
  },
  {
   "cell_type": "markdown",
   "metadata": {},
   "source": [
    "# Text Preprocessing"
   ]
  },
  {
   "cell_type": "code",
   "execution_count": 8,
   "metadata": {},
   "outputs": [
    {
     "data": {
      "text/plain": [
       "(10002, 5)"
      ]
     },
     "execution_count": 8,
     "metadata": {},
     "output_type": "execute_result"
    }
   ],
   "source": [
    "new_df.shape"
   ]
  },
  {
   "cell_type": "code",
   "execution_count": 9,
   "metadata": {},
   "outputs": [
    {
     "name": "stdout",
     "output_type": "stream",
     "text": [
      "3911 ... 2 cups flour 2 tablespoons flour 1 teaspoon baking powder 14 teaspoon salt 18 teaspoon baking soda 1 cup sugar 2 large eggs 2 large egg whites 1 tablespoon almond extract 1 teaspoon almond extract 2 -3 ounces sliced almonds, lightly toasted and coarsly chopped 2 -4 tablespoons mini chocolate chips\n",
      "7805 ... 1-1/2 cups (350 ml) flour 1/2 tsp (2 ml) salt 1-1/2 tbsp (20 ml) sugar 1/2 cup (125 ml) vegetable oil 2 tbsp (30 ml) milk\n",
      "5902 ... 12 cup raisins 2 tablespoons orange juice or 2 tablespoons apple juice 8 ounces cream cheese or 8 ounces soft fresh goat cheese 14 cup chopped fresh basil 14 cup sun-dried tomato packed in oil, drained and chopped fine 1 garlic clove, peeled and minced 14 teaspoon crushed red pepper flakes 3 heads belgian endive or 3 heads crackers 4 basil sprigs (to garnish)\n",
      "9039 ... 1 from 3 fruit daidai or yuzu juice 1 the same amount as the citrus juice vinegar 1 the same amount as the citrus juice and vinegar combined soy sauce 1 dash umami seasoning 1 tsp sugar 1 3 cm square piece kombu\n",
      "4756 ... 2 1/2 cups superfine sugar 8 cloves 4 perfectly ripe pears 10 oz. rough puff pastry 6 crepes, 7-8 inches in diameter 8 fresh mints 4 cups grapeseed or peanut oil, to deep-fry granulated sugar, to dust\n",
      "9864 ... 12 cup onion, chopped 3 tablespoons butter or 3 tablespoons margarine 2 tablespoons worcestershire sauce 2 teaspoons salt 2 teaspoons dry mustard 1 (6 ounce) can tomato paste 1 teaspoon pepper 34 cup water 34 teaspoon chili 3 tablespoons vinegar 12 teaspoon garlic powder 3 tablespoons molasses\n",
      "6 ... 1 package (about 1/3 oz. packet) pop rocks 1- 1/2 ounce, fluid cold vodka 1- 1/2 ounce, fluid 7-up\n",
      "7919 ... linguini, brown rice or regular 4 tablespoons butter, or earth balance (dairy free), divided use 4 tablespoons olive oil, divided 1 whole shallot, finely diced 5 cloves garlic, sliced 1 pinch red pepper flakes 1 pound cooked langostino tails salt and pepper, to taste 1 whole lemon, juiced 1/2 cups white wine 1/4 cups finely chopped parsley leaves\n",
      "138 ... 1 cup graham cracker crumbs 12 cup butter 14 cup sugar 1 white cake mix 1 cup boiling water 1 (3 ounce) box strawberry jell-o gelatin dessert 12 cup oil 4 eggs 8 ounces cream cheese 12 cup sugar 1 egg 16 ounces frozen sweetened strawberries 1 (14 ounce) can sweetened condensed milk 8 ounces cream cheese 12 cup sugar 8 ounces cool whip\n",
      "7337 ... 12 cup dry breadcrumbs 14 cup sesame seeds 2 teaspoons minced fresh parsley 12 cup mayonnaise 1 teaspoon onion powder 1 teaspoon ground mustard 14 teaspoon pepper 1 lb boneless skinless chicken breast, cut into 1-inch cubes 2 -4 tablespoons vegetable oil 34 cup mayonnaise 4 12 teaspoons honey 1 12 teaspoons dijon mustard\n"
     ]
    }
   ],
   "source": [
    "#printing random rows to get idea of preprocessing to be done\n",
    "for i in np.random.randint(0,10000,10):\n",
    "    print(i,'...',df.loc[i,'ingredients'])\n"
   ]
  },
  {
   "cell_type": "markdown",
   "metadata": {},
   "source": [
    "<strong>Observation: </strong>The punctuations , numbers can be removed as those factors do not play role in a user's reason to like the ingredient"
   ]
  },
  {
   "cell_type": "code",
   "execution_count": 10,
   "metadata": {},
   "outputs": [
    {
     "name": "stderr",
     "output_type": "stream",
     "text": [
      "<ipython-input-10-575fd1652a34>:24: SettingWithCopyWarning: \n",
      "A value is trying to be set on a copy of a slice from a DataFrame\n",
      "\n",
      "See the caveats in the documentation: https://pandas.pydata.org/pandas-docs/stable/user_guide/indexing.html#returning-a-view-versus-a-copy\n",
      "  new_df['is_veg'][i] = True\n",
      "E:\\anaconda3\\lib\\site-packages\\pandas\\core\\indexing.py:1637: SettingWithCopyWarning: \n",
      "A value is trying to be set on a copy of a slice from a DataFrame\n",
      "\n",
      "See the caveats in the documentation: https://pandas.pydata.org/pandas-docs/stable/user_guide/indexing.html#returning-a-view-versus-a-copy\n",
      "  self._setitem_single_block(indexer, value, name)\n",
      "<ipython-input-10-575fd1652a34>:19: SettingWithCopyWarning: \n",
      "A value is trying to be set on a copy of a slice from a DataFrame\n",
      "\n",
      "See the caveats in the documentation: https://pandas.pydata.org/pandas-docs/stable/user_guide/indexing.html#returning-a-view-versus-a-copy\n",
      "  new_df['is_veg'][i] = False\n"
     ]
    }
   ],
   "source": [
    "#classifying to veg and non-veg based on most common words (more words to be added ..not 100% accurate) based on ingredients\n",
    "non_veg = ['turkey', 'chicken', 'egg', 'fish', 'milk', 'beef', 'pork', 'salmon','prawn','squid','crab','lobster']\n",
    "\n",
    "new_df['is_veg']=np.nan\n",
    "new_df['lactose_content']=np.nan\n",
    "lst = []               \n",
    "for i in new_df.ingredients:\n",
    "    lst.append(i)         #putting all title values into the list 'lst'\n",
    "    \n",
    "    \n",
    "\n",
    "#for nonveg ---> False   for veg ---> True\n",
    "\n",
    "for i in range(len(lst)):\n",
    "    count = 0\n",
    "    j = lst[i].split(\" \")   #getting words for each list values\n",
    "    for k in j:\n",
    "        if  k in non_veg:\n",
    "            new_df['is_veg'][i] = False\n",
    "            break\n",
    "        else:\n",
    "            count = count+1      #traversing through j into the last word, if last word is also not in 'non_veg list' then 0\n",
    "            if(count == len(j)):\n",
    "                new_df['is_veg'][i] = True\n",
    "                break\n",
    "            continue"
   ]
  },
  {
   "cell_type": "code",
   "execution_count": 12,
   "metadata": {},
   "outputs": [
    {
     "data": {
      "text/html": [
       "<div>\n",
       "<style scoped>\n",
       "    .dataframe tbody tr th:only-of-type {\n",
       "        vertical-align: middle;\n",
       "    }\n",
       "\n",
       "    .dataframe tbody tr th {\n",
       "        vertical-align: top;\n",
       "    }\n",
       "\n",
       "    .dataframe thead th {\n",
       "        text-align: right;\n",
       "    }\n",
       "</style>\n",
       "<table border=\"1\" class=\"dataframe\">\n",
       "  <thead>\n",
       "    <tr style=\"text-align: right;\">\n",
       "      <th></th>\n",
       "      <th>ingredients</th>\n",
       "      <th>partition</th>\n",
       "      <th>title</th>\n",
       "      <th>id</th>\n",
       "      <th>instructions</th>\n",
       "      <th>is_veg</th>\n",
       "      <th>lactose_content</th>\n",
       "    </tr>\n",
       "  </thead>\n",
       "  <tbody>\n",
       "    <tr>\n",
       "      <th>0</th>\n",
       "      <td>5 cups water 4 cups frozen hash brown potatoes...</td>\n",
       "      <td>train</td>\n",
       "      <td>mashed potato bake</td>\n",
       "      <td>165413dfa5</td>\n",
       "      <td>preheat the oven to 350 degrees. bring the wat...</td>\n",
       "      <td>True</td>\n",
       "      <td>NaN</td>\n",
       "    </tr>\n",
       "    <tr>\n",
       "      <th>1</th>\n",
       "      <td>2 whole sheets of lavash bread 1 teaspoon grou...</td>\n",
       "      <td>train</td>\n",
       "      <td>cinnamon and sugar lavash chips</td>\n",
       "      <td>1654357cd3</td>\n",
       "      <td>preheat oven to 350 degrees f. line a baking s...</td>\n",
       "      <td>True</td>\n",
       "      <td>NaN</td>\n",
       "    </tr>\n",
       "    <tr>\n",
       "      <th>2</th>\n",
       "      <td>1 c. sugar 1/2 c. butter 1/2 c. white corn syr...</td>\n",
       "      <td>train</td>\n",
       "      <td>almond toffee popcorn recipe</td>\n",
       "      <td>165438a19c</td>\n",
       "      <td>in heavy saucepan, combine sugar, butter, corn...</td>\n",
       "      <td>True</td>\n",
       "      <td>NaN</td>\n",
       "    </tr>\n",
       "    <tr>\n",
       "      <th>3</th>\n",
       "      <td>2 tablespoons ground paprika 1 tablespoon grou...</td>\n",
       "      <td>val</td>\n",
       "      <td>blackened salmon fillets</td>\n",
       "      <td>1654587b71</td>\n",
       "      <td>in a small bowl, mix paprika, cayenne pepper, ...</td>\n",
       "      <td>False</td>\n",
       "      <td>NaN</td>\n",
       "    </tr>\n",
       "    <tr>\n",
       "      <th>4</th>\n",
       "      <td>2 lb ground turkey 1 quart speghetti sauce 1 b...</td>\n",
       "      <td>train</td>\n",
       "      <td>baked ziti</td>\n",
       "      <td>16545e6d7e</td>\n",
       "      <td>make your pasta and sauce like you normally wo...</td>\n",
       "      <td>False</td>\n",
       "      <td>NaN</td>\n",
       "    </tr>\n",
       "  </tbody>\n",
       "</table>\n",
       "</div>"
      ],
      "text/plain": [
       "                                         ingredients partition  \\\n",
       "0  5 cups water 4 cups frozen hash brown potatoes...     train   \n",
       "1  2 whole sheets of lavash bread 1 teaspoon grou...     train   \n",
       "2  1 c. sugar 1/2 c. butter 1/2 c. white corn syr...     train   \n",
       "3  2 tablespoons ground paprika 1 tablespoon grou...       val   \n",
       "4  2 lb ground turkey 1 quart speghetti sauce 1 b...     train   \n",
       "\n",
       "                             title          id  \\\n",
       "0               mashed potato bake  165413dfa5   \n",
       "1  cinnamon and sugar lavash chips  1654357cd3   \n",
       "2     almond toffee popcorn recipe  165438a19c   \n",
       "3         blackened salmon fillets  1654587b71   \n",
       "4                       baked ziti  16545e6d7e   \n",
       "\n",
       "                                        instructions is_veg  lactose_content  \n",
       "0  preheat the oven to 350 degrees. bring the wat...   True              NaN  \n",
       "1  preheat oven to 350 degrees f. line a baking s...   True              NaN  \n",
       "2  in heavy saucepan, combine sugar, butter, corn...   True              NaN  \n",
       "3  in a small bowl, mix paprika, cayenne pepper, ...  False              NaN  \n",
       "4  make your pasta and sauce like you normally wo...  False              NaN  "
      ]
     },
     "execution_count": 12,
     "metadata": {},
     "output_type": "execute_result"
    }
   ],
   "source": [
    "new_df.head()"
   ]
  },
  {
   "cell_type": "code",
   "execution_count": 13,
   "metadata": {},
   "outputs": [
    {
     "name": "stderr",
     "output_type": "stream",
     "text": [
      "<ipython-input-13-40bbea068892>:18: SettingWithCopyWarning: \n",
      "A value is trying to be set on a copy of a slice from a DataFrame\n",
      "\n",
      "See the caveats in the documentation: https://pandas.pydata.org/pandas-docs/stable/user_guide/indexing.html#returning-a-view-versus-a-copy\n",
      "  new_df['lactose_content'][i] = True\n",
      "E:\\anaconda3\\lib\\site-packages\\pandas\\core\\indexing.py:1637: SettingWithCopyWarning: \n",
      "A value is trying to be set on a copy of a slice from a DataFrame\n",
      "\n",
      "See the caveats in the documentation: https://pandas.pydata.org/pandas-docs/stable/user_guide/indexing.html#returning-a-view-versus-a-copy\n",
      "  self._setitem_single_block(indexer, value, name)\n"
     ]
    }
   ],
   "source": [
    "#Adding columns for lactose content for lactose intolerant people based on ingredients(I considered this as important\n",
    "#according to stats almost 65% of population of world have lactose intolerance issues)\n",
    "lactose=['milk','cheese','butter','yogurt','butter','cream']\n",
    "new_df['lactose_content']=np.nan\n",
    "lst = []               \n",
    "for i in new_df.ingredients:\n",
    "    lst.append(i)         #putting all title values into the list 'lst'\n",
    "    \n",
    "    \n",
    "\n",
    "#for lactose ---> True   for no_lactose ---> False\n",
    "\n",
    "for i in range(len(lst)):\n",
    "    count = 0\n",
    "    j = lst[i].split(\" \")   #getting words for each list values\n",
    "    for k in j:\n",
    "        if  k in lactose:\n",
    "            new_df['lactose_content'][i] = True\n",
    "            break\n",
    "        else:\n",
    "            count = count+1      #traversing through j into the last word, if last word is also not in 'non_veg list' then 0\n",
    "            if(count == len(j)):\n",
    "                new_df['lactose_content'][i] = False\n",
    "                break\n",
    "            continue"
   ]
  },
  {
   "cell_type": "code",
   "execution_count": 14,
   "metadata": {},
   "outputs": [
    {
     "data": {
      "text/html": [
       "<div>\n",
       "<style scoped>\n",
       "    .dataframe tbody tr th:only-of-type {\n",
       "        vertical-align: middle;\n",
       "    }\n",
       "\n",
       "    .dataframe tbody tr th {\n",
       "        vertical-align: top;\n",
       "    }\n",
       "\n",
       "    .dataframe thead th {\n",
       "        text-align: right;\n",
       "    }\n",
       "</style>\n",
       "<table border=\"1\" class=\"dataframe\">\n",
       "  <thead>\n",
       "    <tr style=\"text-align: right;\">\n",
       "      <th></th>\n",
       "      <th>ingredients</th>\n",
       "      <th>partition</th>\n",
       "      <th>title</th>\n",
       "      <th>id</th>\n",
       "      <th>instructions</th>\n",
       "      <th>is_veg</th>\n",
       "      <th>lactose_content</th>\n",
       "    </tr>\n",
       "  </thead>\n",
       "  <tbody>\n",
       "    <tr>\n",
       "      <th>0</th>\n",
       "      <td>5 cups water 4 cups frozen hash brown potatoes...</td>\n",
       "      <td>train</td>\n",
       "      <td>mashed potato bake</td>\n",
       "      <td>165413dfa5</td>\n",
       "      <td>preheat the oven to 350 degrees. bring the wat...</td>\n",
       "      <td>True</td>\n",
       "      <td>True</td>\n",
       "    </tr>\n",
       "    <tr>\n",
       "      <th>1</th>\n",
       "      <td>2 whole sheets of lavash bread 1 teaspoon grou...</td>\n",
       "      <td>train</td>\n",
       "      <td>cinnamon and sugar lavash chips</td>\n",
       "      <td>1654357cd3</td>\n",
       "      <td>preheat oven to 350 degrees f. line a baking s...</td>\n",
       "      <td>True</td>\n",
       "      <td>False</td>\n",
       "    </tr>\n",
       "    <tr>\n",
       "      <th>2</th>\n",
       "      <td>1 c. sugar 1/2 c. butter 1/2 c. white corn syr...</td>\n",
       "      <td>train</td>\n",
       "      <td>almond toffee popcorn recipe</td>\n",
       "      <td>165438a19c</td>\n",
       "      <td>in heavy saucepan, combine sugar, butter, corn...</td>\n",
       "      <td>True</td>\n",
       "      <td>True</td>\n",
       "    </tr>\n",
       "    <tr>\n",
       "      <th>3</th>\n",
       "      <td>2 tablespoons ground paprika 1 tablespoon grou...</td>\n",
       "      <td>val</td>\n",
       "      <td>blackened salmon fillets</td>\n",
       "      <td>1654587b71</td>\n",
       "      <td>in a small bowl, mix paprika, cayenne pepper, ...</td>\n",
       "      <td>False</td>\n",
       "      <td>False</td>\n",
       "    </tr>\n",
       "    <tr>\n",
       "      <th>4</th>\n",
       "      <td>2 lb ground turkey 1 quart speghetti sauce 1 b...</td>\n",
       "      <td>train</td>\n",
       "      <td>baked ziti</td>\n",
       "      <td>16545e6d7e</td>\n",
       "      <td>make your pasta and sauce like you normally wo...</td>\n",
       "      <td>False</td>\n",
       "      <td>False</td>\n",
       "    </tr>\n",
       "  </tbody>\n",
       "</table>\n",
       "</div>"
      ],
      "text/plain": [
       "                                         ingredients partition  \\\n",
       "0  5 cups water 4 cups frozen hash brown potatoes...     train   \n",
       "1  2 whole sheets of lavash bread 1 teaspoon grou...     train   \n",
       "2  1 c. sugar 1/2 c. butter 1/2 c. white corn syr...     train   \n",
       "3  2 tablespoons ground paprika 1 tablespoon grou...       val   \n",
       "4  2 lb ground turkey 1 quart speghetti sauce 1 b...     train   \n",
       "\n",
       "                             title          id  \\\n",
       "0               mashed potato bake  165413dfa5   \n",
       "1  cinnamon and sugar lavash chips  1654357cd3   \n",
       "2     almond toffee popcorn recipe  165438a19c   \n",
       "3         blackened salmon fillets  1654587b71   \n",
       "4                       baked ziti  16545e6d7e   \n",
       "\n",
       "                                        instructions is_veg lactose_content  \n",
       "0  preheat the oven to 350 degrees. bring the wat...   True            True  \n",
       "1  preheat oven to 350 degrees f. line a baking s...   True           False  \n",
       "2  in heavy saucepan, combine sugar, butter, corn...   True            True  \n",
       "3  in a small bowl, mix paprika, cayenne pepper, ...  False           False  \n",
       "4  make your pasta and sauce like you normally wo...  False           False  "
      ]
     },
     "execution_count": 14,
     "metadata": {},
     "output_type": "execute_result"
    }
   ],
   "source": [
    "new_df.head()"
   ]
  },
  {
   "cell_type": "markdown",
   "metadata": {},
   "source": [
    "<h3>Word substitution (ex: 're = are ,etc)"
   ]
  },
  {
   "cell_type": "code",
   "execution_count": 15,
   "metadata": {},
   "outputs": [],
   "source": [
    "#Reason: Seeing random reviews it was clear that there was mix of shortforms and the expansions, though the meaning of both is same)\n",
    "\n",
    "def pre_processing(phrase):\n",
    "    phrase = re.sub(r\"tbsp.\", \"tablespoon \", phrase)\n",
    "    phrase = re.sub(r\"tablespoons\", \"tablespoon \", phrase)\n",
    "    phrase = re.sub(r\"tsp.\", \"teaspoon \", phrase)\n",
    "    phrase = re.sub(r\"oz.\", \"ounce \", phrase)\n",
    "    phrase = re.sub(r\"teaspoons\", \"tablespoon \", phrase)\n",
    "    phrase = re.sub(r\"\\b\\d+\\b\", '', phrase) #remving digits\n",
    "    phrase = phrase.translate(str.maketrans('', '', string.punctuation)) #removing punctuations\n",
    "    phrase=re.sub(' +', ' ', phrase) #removing unwanted spaces\n",
    "    return phrase"
   ]
  },
  {
   "cell_type": "code",
   "execution_count": 16,
   "metadata": {},
   "outputs": [],
   "source": [
    "new_df.ingredients=new_df['ingredients'].apply(pre_processing)\n",
    "new_df.instructions=new_df['instructions'].apply(pre_processing)"
   ]
  },
  {
   "cell_type": "markdown",
   "metadata": {},
   "source": [
    "# Stop word Removal"
   ]
  },
  {
   "cell_type": "code",
   "execution_count": 17,
   "metadata": {},
   "outputs": [],
   "source": [
    "#defining the set of stopwords aside from the general stop words in english (source=https://gist.github.com/sebleier/554280)\n",
    "word_set=set(['cup','cups','teaspoon','tablespoon','teaspoons','tablespoons','spoon','ounce','c','store','tbsp','tsp','lbs','inches',\n",
    "              'into','divided','tbs','pounds','possibly','with','lb','cans','optional','cut','chop','ounces','chopped','optional','pound',\n",
    "             'can','or','if','but','or',\"i\", \"me\", \"my\", \"myself\", \"we\", \"our\", \"ours\", \"ourselves\", \"you\", \"your\", \"yours\", \n",
    "              \"yourself\", \"yourselves\", \"he\", \"him\", \"his\", \"himself\", \"she\", \"her\", \"hers\", \"herself\", \"it\", \"its\", \"itself\",\n",
    "              \"they\", \"them\", \"their\", \"theirs\", \"themselves\", \"what\", \"which\", \"who\", \"whom\", \"this\", \"that\", \"these\", \"those\",\n",
    "              \"am\", \"is\", \"are\", \"was\", \"were\", \"be\", \"been\", \"being\", \"have\", \"has\", \"had\", \"having\", \"do\", \"does\", \"did\", \n",
    "              \"doing\", \"a\", \"an\", \"the\", \"and\", \"but\", \"if\", \"or\", \"because\", \"as\", \"until\", \"while\", \"of\", \"at\", \"by\", \"for\",\n",
    "              \"with\", \"about\", \"against\", \"between\", \"into\", \"through\", \"during\", \"before\", \"after\", \"above\", \"below\", \"to\", \n",
    "              \"from\", \"up\", \"down\", \"in\", \"out\", \"on\", \"off\", \"over\", \"under\", \"again\", \"further\", \"then\", \"once\", \"here\", \n",
    "              \"there\", \"when\", \"where\", \"why\", \"how\", \"all\", \"any\", \"both\", \"each\", \"few\", \"more\", \"most\", \"other\", \"some\", \n",
    "              \"such\", \"no\", \"nor\", \"not\", \"only\", \"own\", \"same\", \"so\", \"than\", \"too\", \"very\", \"s\", \"t\", \"can\", \"will\", \"just\", \n",
    "              \"don\", \"should\", \"now\",'a','b','c','d','e','f','g','h','i','j','k','l','m','n','o','p','q','r','s','t','u'\n",
    "              ,'v','w','x','y','z','also'])"
   ]
  },
  {
   "cell_type": "code",
   "execution_count": 18,
   "metadata": {},
   "outputs": [],
   "source": [
    "for i in range(len(new_df.ingredients)):\n",
    "    words = [word for word in new_df.ingredients[i].strip().split(' ') if word.lower() not in word_set]\n",
    "    new_df.ingredients[i] = \" \".join(words)\n",
    "    \n",
    "new_df.ingredients=new_df['ingredients'].apply(pre_processing)"
   ]
  },
  {
   "cell_type": "code",
   "execution_count": 19,
   "metadata": {},
   "outputs": [
    {
     "data": {
      "text/plain": [
       "0        water frounce hash brown potatoes one package ...\n",
       "1          whole sheets lavash bread ground cinnamon sugar\n",
       "2        sugar butter white corn syrup water toasted al...\n",
       "3        ground paprika ground cayenne pepper onion pow...\n",
       "4        ground turkey quart speghetti sauce box ziti p...\n",
       "                               ...                        \n",
       "9997     butter shortening sugar vanilla eggs cocoa flo...\n",
       "9998     crispy chicken homade brought lettuce tomatoes...\n",
       "9999     hanger steak inch cubes trimmed needed irish s...\n",
       "10000    unsalted butter roasted unsalted peanuts sugar...\n",
       "10001    hazelnuts melted butter good quality semisweet...\n",
       "Name: ingredients, Length: 10002, dtype: object"
      ]
     },
     "execution_count": 19,
     "metadata": {},
     "output_type": "execute_result"
    }
   ],
   "source": [
    "new_df.ingredients"
   ]
  },
  {
   "cell_type": "code",
   "execution_count": 20,
   "metadata": {},
   "outputs": [],
   "source": [
    "for i in range(len(new_df.instructions)):\n",
    "    words = [word for word in new_df.instructions[i].strip().split(' ') if word.lower() not in word_set]\n",
    "    new_df.instructions[i] = \" \".join(words)\n",
    "    \n",
    "new_df.instructions=new_df['instructions'].apply(pre_processing)"
   ]
  },
  {
   "cell_type": "code",
   "execution_count": 21,
   "metadata": {},
   "outputs": [
    {
     "data": {
      "text/plain": [
       "0        preheat oven degrees bring water boil add hash...\n",
       "1        preheat oven degrees line baking sheet aluminu...\n",
       "2        heavy saucepan combine sugar butter corn syrup...\n",
       "3        small bowl mix paprika cayenne pepper onion po...\n",
       "4        make pasta sauce like normally would adding ve...\n",
       "                               ...                        \n",
       "9997     generously grease flour inch round 13x9 cake p...\n",
       "9998     ingriedients personal size add ingredients pla...\n",
       "9999     pair hearty stew dry irish stout marinade gall...\n",
       "10000    position oven rack center oven preheat oven 35...\n",
       "10001    butter springform pan process nuts food proces...\n",
       "Name: instructions, Length: 10002, dtype: object"
      ]
     },
     "execution_count": 21,
     "metadata": {},
     "output_type": "execute_result"
    }
   ],
   "source": [
    "new_df.instructions"
   ]
  },
  {
   "cell_type": "code",
   "execution_count": 22,
   "metadata": {},
   "outputs": [
    {
     "name": "stdout",
     "output_type": "stream",
     "text": [
      "stewing lamb quarts water leek salt sprig fresh parsley pearl barley carrot peppercorns bay leaves fresh parsley\n",
      "extra virgin olive oil lemon juice sea salt cracked pepper spinach butter lettuce crumbled feta\n",
      "chicken skinned equivalent chicken pieces onion piece gingerroot peeled sliced garlic cloves peppercorn salt thai fish sauce soy sauce dried rice noodles baby spinach cilantro limes\n",
      "box yellow cake mix quickcooking oats oldfashioned nuts walnuts butter margarine softened egg sweetened condensed milk fresh grated orange zest shredded coconut semisweet chocolate chips mms\n",
      "bread flour fast rise yeast sugar kosher salt less use regular salt olive oil hot water degrees\n",
      "water ice cubes instant coffee dark cocoa powdered sugar xanthan gum\n",
      "whole boneless chicken breasts pounded flattened inch thickness flour salt white pepper ground nutmeg italian seasoning large egg water dry breadcrumbs freshly grated parmesan cheese butter olive oil dry white wine lemon wedge\n",
      "lean ground beef macaroni quart stewed tomatoes paprika chili powder onion clove garlic minced tomato paste\n",
      "bartlett pear half tin mincemeat jar brandy whipped cream desired\n",
      "tuna bisquick red onion italian breadcrumbs flatleaf italian parsley garlic salt eggs lightly beaten butter extra virgin olive oil\n"
     ]
    }
   ],
   "source": [
    "#displaying random ingredient \n",
    "for i in np.random.randint(0,10000,10):\n",
    "    print(new_df.loc[i,'ingredients'])"
   ]
  },
  {
   "cell_type": "code",
   "execution_count": 23,
   "metadata": {},
   "outputs": [
    {
     "name": "stdout",
     "output_type": "stream",
     "text": [
      "put flour salt bowl make well pour slightly beaten eggs well stir fork mixed stir rum add milk slowly stirring constantly fork batter smooth lumps need broken blended let batter sit minutes proceeding brush crepe heavy frying pan size melted butter pan hot pour enough batter thinly cover bottom pan tilt pan base completely covered batter cook crepe golden bottom minute flip metal spatula cook second side golden transfer crepe plate cover foil keep warm repeat cooking process batter used unfilled crepes well wrapped frounce recipe halved use two eggs\n",
      "saute onion carrots celery potatoes thyme large pot onions transparent add garlic mushrooms saute minutes add broths barley cook covered minutes barley cooked veggies soft add salt pepper taste stew adjust seasonings like serve hot crusty bread crackers whatever like stew bon appetit\n",
      "peel grate carrots make vinaigrette stirring together small bowl red wine vinegar fresh lemon juice salt freshground black pepper whisk olive oil taste adjust necessary toss carrots dressing parsley let salad stand minutes taste needed add salt lemon juice oil instead grating carrots fine julienne slice thin add fresh orange juice\n",
      "prepare batter combining flour egg egg yolk add salt combine milk mixture smooth allow stand hours covered refrigerated place one butter hot pan melted lightly brown add crepe batter stir butter place ladle full crepe batter hot pan moving around mixture sets place back heat wait small bubbles appear surface flip crepe cook seconds side remove pan spatula add sugar separate pan add strawberries mangoes remaining butter stir together sugar butter form fudgelike consistency add wine walnuts place mixture center crepe roll leaving sauce place crepes onto serving dish remaining sauce crepes coat top whipped cream walnuts strawberries mangoes desired\n",
      "preheat oven degrees mixer electric mixer combine peanut butter egg sugars add soymilk three parts beating well addition add flour baking powder combine add chocolate chips combine well spray muffin nonstick spray add batter bake minutes toothpick inserted muffin comes clean\n"
     ]
    }
   ],
   "source": [
    "for i in np.random.randint(0,10000,5): #random 5 instructions\n",
    "    print(new_df.loc[i,'instructions'])"
   ]
  },
  {
   "cell_type": "markdown",
   "metadata": {},
   "source": [
    "<h3>Lammetizing"
   ]
  },
  {
   "cell_type": "code",
   "execution_count": 24,
   "metadata": {},
   "outputs": [],
   "source": [
    "import nltk\n",
    "from nltk.stem import WordNetLemmatizer"
   ]
  },
  {
   "cell_type": "code",
   "execution_count": 25,
   "metadata": {},
   "outputs": [
    {
     "name": "stderr",
     "output_type": "stream",
     "text": [
      "[nltk_data] Downloading package wordnet to\n",
      "[nltk_data]     C:\\Users\\Sandesh\\AppData\\Roaming\\nltk_data...\n",
      "[nltk_data]   Package wordnet is already up-to-date!\n"
     ]
    }
   ],
   "source": [
    "nltk.download('wordnet')\n",
    "lemmatizer=WordNetLemmatizer()"
   ]
  },
  {
   "cell_type": "code",
   "execution_count": 26,
   "metadata": {},
   "outputs": [],
   "source": [
    "for i in range(len(new_df.ingredients)):\n",
    "    words_ingr = [lemmatizer.lemmatize(word) for word in new_df.ingredients[i].strip().split(' ')]\n",
    "    words_instr= [lemmatizer.lemmatize(word) for word in new_df.instructions[i].strip().split(' ')]\n",
    "    new_df.ingredients[i] = \" \".join(words_ingr)\n",
    "    new_df.instructions[i]=\" \".join(words_instr)\n"
   ]
  },
  {
   "cell_type": "markdown",
   "metadata": {},
   "source": [
    "<h3> Old Dataset before Preprocessing"
   ]
  },
  {
   "cell_type": "code",
   "execution_count": 38,
   "metadata": {},
   "outputs": [
    {
     "name": "stdout",
     "output_type": "stream",
     "text": [
      "preheat the oven to 350 degrees. bring the water to a boil, add the hash browns, and cook for 5 minutes; drain. prepare the mashed-potato mix according to package directions. soften the butter and cream cheese together in the microwave. in a large bowl, mix together the hash browns, mashed potatoes, butter and cream cheese, jack cheese, sour cream, garlic salt, salt, and pepper. place in a greased 2-quart casserole. bake for 25 to 35 minutes, or until golden on top. sprinkle the onion rings over the casserole and bake for about 5 to 8 minutes longer, or until onions are golden brown.\n",
      "preheat oven to 350 degrees f. line a baking sheet with aluminum foil and spray with cooking spray. cut one sheet of lavash bread into 30 squares. do the same with the other pieces. i found cutting them with a pizza cutter works quick and easy. line the lavash bread on baking sheet. try not to overlap them. lightly spray with cooking spray. in a small bowl add cinnamon and sugar. with a sifter, add the sugar and cinnamon and shake over the lavash bread. place in oven and bake for 5 minutes. flip the crackers and bake for 2 minutes more.\n",
      "in heavy saucepan, combine sugar, butter, corn syrup, water and almonds. cook over a moderate heat to 280 on a candy thermometer. add in the vanilla. stir well and pour over the popped corn.\n",
      "in a small bowl, mix paprika, cayenne pepper, onion powder, salt, white pepper, black pepper, thyme, basil and oregano. brush salmon fillets on both sides with 1/4 cup butter, and sprinkle evenly with the cayenne pepper mixture. drizzle one side of each fillet with 1/2 remaining butter. in a large, heavy skillet over high heat, cook salmon, butter side down, until blackened, 2 to 5 minutes. turn fillets, drizzle with remaining butter, and continue cooking until blackened and fish is easily flaked with a fork.\n",
      "make your pasta and sauce like you normally would. adding what veggies and spices. pre heat oven to 400f mix sauce and pasta in an oven safe dish. i added fresh frozen spinach and a variety of cheeses. bake for 30 mins.\n"
     ]
    }
   ],
   "source": [
    "for i in range(5): #random 5 instructions\n",
    "    print(df.loc[i,'instructions'])"
   ]
  },
  {
   "cell_type": "markdown",
   "metadata": {},
   "source": [
    "<h3> After Preprocessing"
   ]
  },
  {
   "cell_type": "code",
   "execution_count": 37,
   "metadata": {},
   "outputs": [
    {
     "name": "stdout",
     "output_type": "stream",
     "text": [
      "preheat oven degree bring water boil add hash brown cook minute drain prepare mashedpotato mix according package direction soften butter cream cheese together microwave large bowl mix together hash brown mashed potato butter cream cheese jack cheese sour cream garlic salt salt pepper place greased quart casserole bake minute golden top sprinkle onion ring casserole bake minute longer onion golden brown\n",
      "preheat oven degree line baking sheet aluminum foil spray cooking spray one sheet lavash bread square piece found cutting pizza cutter work quick easy line lavash bread baking sheet try overlap lightly spray cooking spray small bowl add cinnamon sugar sifter add sugar cinnamon shake lavash bread place oven bake minute flip cracker bake minute\n",
      "heavy saucepan combine sugar butter corn syrup water almond cook moderate heat candy thermometer add vanilla stir well pour popped corn\n",
      "small bowl mix paprika cayenne pepper onion powder salt white pepper black pepper thyme basil oregano brush salmon fillet side butter sprinkle evenly cayenne pepper mixture drizzle one side fillet remaining butter large heavy skillet high heat cook salmon butter side blackened minute turn fillet drizzle remaining butter continue cooking blackened fish easily flaked fork\n",
      "make pasta sauce like normally would adding veggie spice pre heat oven 400f mix sauce pasta oven safe dish added fresh frounce spinach variety cheese bake min\n"
     ]
    }
   ],
   "source": [
    "for i in range(5): #random 5 instructions\n",
    "    print(new_df.loc[i,'instructions'])"
   ]
  },
  {
   "cell_type": "code",
   "execution_count": null,
   "metadata": {},
   "outputs": [],
   "source": []
  }
 ],
 "metadata": {
  "kernelspec": {
   "display_name": "Python 3",
   "language": "python",
   "name": "python3"
  },
  "language_info": {
   "codemirror_mode": {
    "name": "ipython",
    "version": 3
   },
   "file_extension": ".py",
   "mimetype": "text/x-python",
   "name": "python",
   "nbconvert_exporter": "python",
   "pygments_lexer": "ipython3",
   "version": "3.8.3"
  }
 },
 "nbformat": 4,
 "nbformat_minor": 4
}
